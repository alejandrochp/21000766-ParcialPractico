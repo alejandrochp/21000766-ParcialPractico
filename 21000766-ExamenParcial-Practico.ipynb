{
 "cells": [
  {
   "cell_type": "code",
   "execution_count": 44,
   "id": "95e1e098-6ced-42ed-89c0-fabcb864dc04",
   "metadata": {},
   "outputs": [
    {
     "name": "stdout",
     "output_type": "stream",
     "text": [
      "['6', '8', '2', '0', '1', '4', '5']\n",
      "['h', 'i', 'b', 'w', 'W', 't', 'a']\n",
      "Código Inválido:  h6i8b2w0W1t4a5\n",
      "lista de invalidos [' h6i8b2w0W1t4a5']\n"
     ]
    },
    {
     "name": "stdin",
     "output_type": "stream",
     "text": [
      "Escriba EXIT para salir o presione cualquier valor para continuar: \n"
     ]
    },
    {
     "name": "stdout",
     "output_type": "stream",
     "text": [
      "['3', '7', '0', '9', '1', '6', '5']\n",
      "['X', 'V', 'w', 'Q', 'D', 'l', 'M']\n",
      "Código Valido:  X3V7w0Q9D1l6M5\n",
      "Tupla de válidos: ((31, ' X3V7w0Q9D1l6M5'),)\n"
     ]
    },
    {
     "name": "stdin",
     "output_type": "stream",
     "text": [
      "Escriba EXIT para salir o presione cualquier valor para continuar: \n"
     ]
    },
    {
     "name": "stdout",
     "output_type": "stream",
     "text": [
      "['2', '4', '7', '5', '0', '9', '1']\n",
      "['D', 'F', 'J', 'k', 'f', 'R', 'r']\n",
      "Código Inválido:  D2F4J7k5f0R9r1\n",
      "lista de invalidos [' D2F4J7k5f0R9r1']\n"
     ]
    },
    {
     "name": "stdin",
     "output_type": "stream",
     "text": [
      "Escriba EXIT para salir o presione cualquier valor para continuar: exit\n"
     ]
    },
    {
     "name": "stdout",
     "output_type": "stream",
     "text": [
      "resultados: [' D2F4J7k5f0R9r1'], ((31, ' X3V7w0Q9D1l6M5'),)\n"
     ]
    }
   ],
   "source": [
    "import random\n",
    "import string\n",
    "\n",
    "while True:\n",
    "    numeros = ()\n",
    "    letras = ()\n",
    "    numeros = random.sample(string.digits,7)\n",
    "    letras = random.sample(string.ascii_letters,7)\n",
    "    print(numeros)\n",
    "    print(letras)\n",
    "    suma = sum(list(map(int, numeros)))\n",
    "    \n",
    "    \n",
    "    if suma > 30: #Validamos que la suma de la lista de números sea para un código válido\n",
    "        cod = letras + numeros # unificamos ambas listas, letras y números en una sola\n",
    "        cod[::2] = letras #Se define el orden del intercalado al combinar ambas listas\n",
    "        cod[1::2] = numeros\n",
    "\n",
    "        codigo = \" \" # Se define la variable donde se concatenará la información ya traslapada\n",
    "        for i in cod: #ciclo para recorrer los valores e ir concatenando cada uno. \n",
    "            codigo += str(i) + \"\"\n",
    "    \n",
    "        print(f\"Código Válido: {codigo}\")\n",
    "       \n",
    "    \n",
    "        diccionario_validos = () #Se crea el diccionanario para almacenar los códigos válidos\n",
    "        listatemp = list(diccionario_validos) #se convierte temporalmente a lista para poder utilizar append\n",
    "        listatemp.append((suma,codigo))\n",
    "        diccionario_validos = tuple(listatemp) # se convierte nuevamente a tupla y se imprime\n",
    "        print(f\"Tupla de válidos: {diccionario_validos}\")\n",
    "        \n",
    "        temp = str(input(\"Escriba EXIT para salir o presione cualquier valor para continuar:\")) #validación del usuario si se continúa o se sale del programa\n",
    "        salida = temp.casefold()\n",
    "\n",
    "        if salida == \"exit\":\n",
    "            print(f\"resultados: {diccionario_invalidos}, {diccionario_validos}\")\n",
    "            \n",
    "            break\n",
    "        \n",
    "    else:\n",
    "        cod = letras + numeros # unificación del código alfanumérico en el caso de no cumplir con condición de validez \n",
    "        cod[::2] = letras \n",
    "        cod[1::2] = numeros\n",
    "        codigo = \" \" \n",
    "        for i in cod: \n",
    "            codigo += str(i) + \"\"\n",
    "    \n",
    "        print(f\"Código Inválido: {codigo}\")\n",
    "       \n",
    "        diccionario_invalidos = [] # se crea la lista vacía donde se almacenarán los códigos inválidos\n",
    "        diccionario_invalidos.append(codigo) #se agrega cada código a la lista\n",
    "    \n",
    "        print(f\"lista de invalidos {diccionario_invalidos}\") \n",
    "        \n",
    "        temp = str(input(\"Escriba EXIT para salir o presione cualquier valor para continuar:\"))\n",
    "        salida = temp.casefold()\n",
    "\n",
    "        if salida == \"exit\":\n",
    "            \n",
    "            print(f\"resultados: {diccionario_invalidos}, {diccionario_validos}\")\n",
    "            \n",
    "            \n",
    "            break\n",
    "\n",
    "\n",
    "\n",
    "\n",
    "            "
   ]
  }
 ],
 "metadata": {
  "kernelspec": {
   "display_name": "Python 3 (ipykernel)",
   "language": "python",
   "name": "python3"
  },
  "language_info": {
   "codemirror_mode": {
    "name": "ipython",
    "version": 3
   },
   "file_extension": ".py",
   "mimetype": "text/x-python",
   "name": "python",
   "nbconvert_exporter": "python",
   "pygments_lexer": "ipython3",
   "version": "3.9.7"
  }
 },
 "nbformat": 4,
 "nbformat_minor": 5
}
